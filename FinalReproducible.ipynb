{
  "nbformat": 4,
  "nbformat_minor": 0,
  "metadata": {
    "colab": {
      "name": "FinalReproducible.ipynb",
      "provenance": [],
      "collapsed_sections": [],
      "toc_visible": true,
      "include_colab_link": true
    },
    "kernelspec": {
      "name": "python3",
      "display_name": "Python 3"
    }
  },
  "cells": [
    {
      "cell_type": "markdown",
      "metadata": {
        "id": "view-in-github",
        "colab_type": "text"
      },
      "source": [
        "<a href=\"https://colab.research.google.com/github/Kotzly/physionet-challenge-2020/blob/colab/FinalReproducible.ipynb\" target=\"_parent\"><img src=\"https://colab.research.google.com/assets/colab-badge.svg\" alt=\"Open In Colab\"/></a>"
      ]
    },
    {
      "cell_type": "markdown",
      "metadata": {
        "id": "RoNLKVqIgIYS"
      },
      "source": [
        "# MO434 - Baseline\r\n",
        "## Physionet Challenge 2020\r\n",
        "\r\n",
        "This notebook is a demonstration of the baseline we used for the challenge. It is a MLP with one hidden layer that has 200 neurons and receives 14 features as inputs, like age, sex, and statistical measurements of the RR intervals and peak values of the ECG signal"
      ]
    },
    {
      "cell_type": "markdown",
      "metadata": {
        "id": "aS8DVPQeix-c"
      },
      "source": [
        "## Code loading\r\n",
        "\r\n",
        "Firstly, the training, inference and evaluation scripts are loaded from the remote repository."
      ]
    },
    {
      "cell_type": "code",
      "metadata": {
        "colab": {
          "base_uri": "https://localhost:8080/"
        },
        "id": "jvZd__jBkPvD",
        "outputId": "18017a7c-6626-4cf9-eb6f-babdb2a1debe"
      },
      "source": [
        "!git clone https://github.com/Kotzly/physionet-challenge-2020.git"
      ],
      "execution_count": null,
      "outputs": [
        {
          "output_type": "stream",
          "text": [
            "Cloning into 'physionet-challenge-2020'...\n",
            "remote: Enumerating objects: 501, done.\u001b[K\n",
            "remote: Counting objects: 100% (501/501), done.\u001b[K\n",
            "remote: Compressing objects: 100% (224/224), done.\u001b[K\n",
            "remote: Total 501 (delta 283), reused 487 (delta 273), pack-reused 0\u001b[K\n",
            "Receiving objects: 100% (501/501), 173.38 KiB | 459.00 KiB/s, done.\n",
            "Resolving deltas: 100% (283/283), done.\n"
          ],
          "name": "stdout"
        }
      ]
    },
    {
      "cell_type": "code",
      "metadata": {
        "colab": {
          "base_uri": "https://localhost:8080/"
        },
        "id": "zuXk1aAmatZM",
        "outputId": "20ab6825-12e0-4c68-c3f1-4d4b92e2f09c"
      },
      "source": [
        "%cd physionet-challenge-2020\n",
        "!git pull\n",
        "!git checkout v0.1-baseline_12_leads\n",
        "%cd .."
      ],
      "execution_count": null,
      "outputs": [
        {
          "output_type": "stream",
          "text": [
            "/content/python-classifier-2020\n",
            "Already up to date.\n",
            "Note: checking out 'v0.1-baseline_12_leads'.\n",
            "\n",
            "You are in 'detached HEAD' state. You can look around, make experimental\n",
            "changes and commit them, and you can discard any commits you make in this\n",
            "state without impacting any branches by performing another checkout.\n",
            "\n",
            "If you want to create a new branch to retain commits you create, you may\n",
            "do so (now or later) by using -b with the checkout command again. Example:\n",
            "\n",
            "  git checkout -b <new-branch-name>\n",
            "\n",
            "HEAD is now at ec575d8 Fixing repeated age and sex in features calc\n",
            "/content/evaluation-2020\n",
            "Already up to date.\n",
            "Note: checking out 'v0.1-baseline_12_leads'.\n",
            "\n",
            "You are in 'detached HEAD' state. You can look around, make experimental\n",
            "changes and commit them, and you can discard any commits you make in this\n",
            "state without impacting any branches by performing another checkout.\n",
            "\n",
            "If you want to create a new branch to retain commits you create, you may\n",
            "do so (now or later) by using -b with the checkout command again. Example:\n",
            "\n",
            "  git checkout -b <new-branch-name>\n",
            "\n",
            "HEAD is now at 75494aa Wrong variable name\n",
            "/content\n"
          ],
          "name": "stdout"
        }
      ]
    },
    {
      "cell_type": "markdown",
      "metadata": {
        "id": "4ATBl2BUi_Nj"
      },
      "source": [
        "## Data Loading\r\n",
        "\r\n",
        "Then the datasets are download, they are 6 in total. All recordings are then copied to the same folder."
      ]
    },
    {
      "cell_type": "code",
      "metadata": {
        "colab": {
          "base_uri": "https://localhost:8080/"
        },
        "id": "87w-5LCk-LAO",
        "outputId": "ba4f84e8-2f79-40d4-cb38-b35474293941"
      },
      "source": [
        "!gdown --id \"1-5x4KIbnr7Lj1tVmMkuTnqznk7x5Vf4R\""
      ],
      "execution_count": null,
      "outputs": [
        {
          "output_type": "stream",
          "text": [
            "Downloading...\n",
            "From: https://drive.google.com/uc?id=1-5x4KIbnr7Lj1tVmMkuTnqznk7x5Vf4R\n",
            "To: /content/PhysioNetChallenge2020_Training_2.tar.gz\n",
            "423MB [00:04, 91.4MB/s]\n"
          ],
          "name": "stdout"
        }
      ]
    },
    {
      "cell_type": "code",
      "metadata": {
        "colab": {
          "base_uri": "https://localhost:8080/"
        },
        "id": "4jzHfwCxFR6J",
        "outputId": "289a306c-c2ad-41cc-95ac-af63765c18f6"
      },
      "source": [
        "!gdown --id \"1-33KhbVm-BSfBHt2LYgZ6Q5zdPu8AlQ8\""
      ],
      "execution_count": null,
      "outputs": [
        {
          "output_type": "stream",
          "text": [
            "Downloading...\n",
            "From: https://drive.google.com/uc?id=1-33KhbVm-BSfBHt2LYgZ6Q5zdPu8AlQ8\n",
            "To: /content/PhysioNetChallenge2020_Training_CPSC.tar.gz\n",
            "860MB [00:04, 201MB/s]\n"
          ],
          "name": "stdout"
        }
      ]
    },
    {
      "cell_type": "code",
      "metadata": {
        "colab": {
          "base_uri": "https://localhost:8080/"
        },
        "id": "QYtXCwAAFSDw",
        "outputId": "14de7811-479b-41c1-d7e2-6d05cdcc9e5a"
      },
      "source": [
        "!gdown --id \"1-HuKofw5BFjBL69X5W2BiRnRpqy3V__i\""
      ],
      "execution_count": null,
      "outputs": [
        {
          "output_type": "stream",
          "text": [
            "Downloading...\n",
            "From: https://drive.google.com/uc?id=1-HuKofw5BFjBL69X5W2BiRnRpqy3V__i\n",
            "To: /content/PhysioNetChallenge2020_Training_E.tar.gz\n",
            "502MB [00:05, 86.8MB/s]\n"
          ],
          "name": "stdout"
        }
      ]
    },
    {
      "cell_type": "code",
      "metadata": {
        "colab": {
          "base_uri": "https://localhost:8080/"
        },
        "id": "N2PHYDzkFSLT",
        "outputId": "d1f400e4-1007-4961-adcf-843b1a3b63ef"
      },
      "source": [
        "!gdown --id \"1-KjbowxvHaCUPz23A_ujBnlujyFswaw6\""
      ],
      "execution_count": null,
      "outputs": [
        {
          "output_type": "stream",
          "text": [
            "Downloading...\n",
            "From: https://drive.google.com/uc?id=1-KjbowxvHaCUPz23A_ujBnlujyFswaw6\n",
            "To: /content/PhysioNetChallenge2020_Training_PTB-XL.tar.gz\n",
            "1.45GB [00:23, 62.4MB/s]\n"
          ],
          "name": "stdout"
        }
      ]
    },
    {
      "cell_type": "code",
      "metadata": {
        "colab": {
          "base_uri": "https://localhost:8080/"
        },
        "id": "z_GSIvUEFSOi",
        "outputId": "4281b812-60b5-42b3-ad1d-a355afbfde7f"
      },
      "source": [
        "!gdown --id \"1-9f0JFg_QoPfHAZ_zj4dkLfT3X9B39x9\""
      ],
      "execution_count": null,
      "outputs": [
        {
          "output_type": "stream",
          "text": [
            "Downloading...\n",
            "From: https://drive.google.com/uc?id=1-9f0JFg_QoPfHAZ_zj4dkLfT3X9B39x9\n",
            "To: /content/PhysioNetChallenge2020_Training_PTB.tar.gz\n",
            "933MB [00:11, 83.2MB/s]\n"
          ],
          "name": "stdout"
        }
      ]
    },
    {
      "cell_type": "code",
      "metadata": {
        "colab": {
          "base_uri": "https://localhost:8080/"
        },
        "id": "mIaGxX_OFSbr",
        "outputId": "834dc3fd-2738-445e-cf6d-40aec3d6ed78"
      },
      "source": [
        "!gdown --id \"1-AQuoTSL1KD2J0N0y-U886n_Mdx_oIAf\""
      ],
      "execution_count": null,
      "outputs": [
        {
          "output_type": "stream",
          "text": [
            "Downloading...\n",
            "From: https://drive.google.com/uc?id=1-AQuoTSL1KD2J0N0y-U886n_Mdx_oIAf\n",
            "To: /content/PhysioNetChallenge2020_Training_StPetersburg.tar.gz\n",
            "591MB [00:09, 63.3MB/s]\n"
          ],
          "name": "stdout"
        }
      ]
    },
    {
      "cell_type": "code",
      "metadata": {
        "id": "ttsauYhDF04x"
      },
      "source": [
        "import os\n",
        "\n",
        "tar_files = os.listdir()\n",
        "tar_files = [x for x in tar_files if x.endswith(\"gz\")]\n",
        "\n",
        "!mkdir extracted\n",
        "\n",
        "for filename in tar_files:\n",
        "  !tar -xf \"{filename}\" -C extracted"
      ],
      "execution_count": null,
      "outputs": []
    },
    {
      "cell_type": "code",
      "metadata": {
        "id": "3lV3c39LHI7K"
      },
      "source": [
        "!mv extracted/Training_2/* extracted"
      ],
      "execution_count": null,
      "outputs": []
    },
    {
      "cell_type": "code",
      "metadata": {
        "id": "M9rvJI99HPu8"
      },
      "source": [
        "!mv extracted/Training_WFDB/* extracted"
      ],
      "execution_count": null,
      "outputs": []
    },
    {
      "cell_type": "code",
      "metadata": {
        "id": "5Pdrcd0iHR2C"
      },
      "source": [
        "%%bash \n",
        "for filename in extracted/WFDB/*; do\n",
        "  mv $filename extracted\n",
        "done"
      ],
      "execution_count": null,
      "outputs": []
    },
    {
      "cell_type": "code",
      "metadata": {
        "id": "rW_NJZQrPKTo"
      },
      "source": [
        "!rm -rf extracted/Training_2/ extracted/Training_WFDB/ extracted/WFDB"
      ],
      "execution_count": null,
      "outputs": []
    },
    {
      "cell_type": "markdown",
      "metadata": {
        "id": "zAfC_vVPjLkH"
      },
      "source": [
        "## Model training\r\n",
        "\r\n",
        "Here the MLP is trained using 50% of the files, and using 25% of the files as the validation set, to perform the early stopping. \r\n",
        "\r\n",
        "Also, before the training starts, the test files names are saved in `model_dir/header_files_test.npy`, so the inference script can load only the test files."
      ]
    },
    {
      "cell_type": "code",
      "metadata": {
        "id": "IiSDho3nkYC8",
        "colab": {
          "base_uri": "https://localhost:8080/"
        },
        "outputId": "df0e4043-dcc9-4e95-ef82-8fd157f5b03d"
      },
      "source": [
        "!mkdir -p model_dir\n",
        "!python python-classifier-2020/train_model.py extracted model_dir   "
      ],
      "execution_count": null,
      "outputs": [
        {
          "output_type": "stream",
          "text": [
            "2020-12-15 00:59:14.472185: I tensorflow/stream_executor/platform/default/dso_loader.cc:48] Successfully opened dynamic library libcudart.so.10.1\n",
            "Running training code...\n",
            "Listing files...\n",
            "Loading data...\n",
            "Did not find saved data.\n",
            "\tLoading labels\n",
            "\tLoading features\n",
            "/usr/local/lib/python3.6/dist-packages/numpy/core/fromnumeric.py:3335: RuntimeWarning: Mean of empty slice.\n",
            "  out=out, **kwargs)\n",
            "/usr/local/lib/python3.6/dist-packages/numpy/core/_methods.py:161: RuntimeWarning: invalid value encountered in double_scalars\n",
            "  ret = ret.dtype.type(ret / rcount)\n",
            "/usr/local/lib/python3.6/dist-packages/numpy/core/_methods.py:217: RuntimeWarning: Degrees of freedom <= 0 for slice\n",
            "  keepdims=keepdims)\n",
            "/usr/local/lib/python3.6/dist-packages/numpy/core/_methods.py:186: RuntimeWarning: invalid value encountered in true_divide\n",
            "  arrmean, rcount, out=arrmean, casting='unsafe', subok=False)\n",
            "/usr/local/lib/python3.6/dist-packages/numpy/core/_methods.py:209: RuntimeWarning: invalid value encountered in double_scalars\n",
            "  ret = ret.dtype.type(ret / rcount)\n",
            "/usr/local/lib/python3.6/dist-packages/scipy/stats/stats.py:651: RuntimeWarning: Degrees of freedom <= 0 for slice\n",
            "  return a.var(ddof=ddof, axis=axis)\n",
            "Training model...\n",
            "2020-12-15 01:30:16.276084: I tensorflow/stream_executor/platform/default/dso_loader.cc:48] Successfully opened dynamic library libcuda.so.1\n",
            "2020-12-15 01:30:16.369679: E tensorflow/stream_executor/cuda/cuda_driver.cc:314] failed call to cuInit: CUDA_ERROR_NO_DEVICE: no CUDA-capable device is detected\n",
            "2020-12-15 01:30:16.369766: I tensorflow/stream_executor/cuda/cuda_diagnostics.cc:156] kernel driver does not appear to be running on this host (e1ce3d820442): /proc/driver/nvidia/version does not exist\n",
            "2020-12-15 01:30:16.497414: I tensorflow/core/platform/profile_utils/cpu_utils.cc:104] CPU Frequency: 2300000000 Hz\n",
            "2020-12-15 01:30:16.498151: I tensorflow/compiler/xla/service/service.cc:168] XLA service 0x2bc6bc0 initialized for platform Host (this does not guarantee that XLA will be used). Devices:\n",
            "2020-12-15 01:30:16.498197: I tensorflow/compiler/xla/service/service.cc:176]   StreamExecutor device (0): Host, Default Version\n",
            "Model: \"sequential\"\n",
            "_________________________________________________________________\n",
            "Layer (type)                 Output Shape              Param #   \n",
            "=================================================================\n",
            "dense (Dense)                (None, 200)               29400     \n",
            "_________________________________________________________________\n",
            "dropout (Dropout)            (None, 200)               0         \n",
            "_________________________________________________________________\n",
            "dense_1 (Dense)              (None, 111)               22311     \n",
            "=================================================================\n",
            "Total params: 51,711\n",
            "Trainable params: 51,711\n",
            "Non-trainable params: 0\n",
            "_________________________________________________________________\n",
            "Epoch 1/1000\n",
            "674/674 [==============================] - 2s 2ms/step - loss: 8.9243 - accuracy: 0.1424 - val_loss: 7.9795 - val_accuracy: 0.2384\n",
            "Epoch 2/1000\n",
            "674/674 [==============================] - 1s 2ms/step - loss: 7.8356 - accuracy: 0.2374 - val_loss: 7.5763 - val_accuracy: 0.2484\n",
            "Epoch 3/1000\n",
            "674/674 [==============================] - 2s 2ms/step - loss: 7.5383 - accuracy: 0.2441 - val_loss: 7.3743 - val_accuracy: 0.2476\n",
            "Epoch 4/1000\n",
            "674/674 [==============================] - 1s 2ms/step - loss: 7.3427 - accuracy: 0.2445 - val_loss: 7.2529 - val_accuracy: 0.2482\n",
            "Epoch 5/1000\n",
            "674/674 [==============================] - 2s 2ms/step - loss: 7.2141 - accuracy: 0.2445 - val_loss: 7.1190 - val_accuracy: 0.2493\n",
            "Epoch 6/1000\n",
            "674/674 [==============================] - 1s 2ms/step - loss: 7.0593 - accuracy: 0.2445 - val_loss: 6.9819 - val_accuracy: 0.2496\n",
            "Epoch 7/1000\n",
            "674/674 [==============================] - 1s 2ms/step - loss: 6.9353 - accuracy: 0.2452 - val_loss: 6.8867 - val_accuracy: 0.2491\n",
            "Epoch 8/1000\n",
            "674/674 [==============================] - 2s 2ms/step - loss: 6.8315 - accuracy: 0.2458 - val_loss: 6.8146 - val_accuracy: 0.2490\n",
            "Epoch 9/1000\n",
            "674/674 [==============================] - 2s 2ms/step - loss: 6.7572 - accuracy: 0.2452 - val_loss: 6.7514 - val_accuracy: 0.2484\n",
            "Epoch 10/1000\n",
            "674/674 [==============================] - 1s 2ms/step - loss: 6.6852 - accuracy: 0.2458 - val_loss: 6.7052 - val_accuracy: 0.2484\n",
            "Epoch 11/1000\n",
            "674/674 [==============================] - 1s 2ms/step - loss: 6.6397 - accuracy: 0.2470 - val_loss: 6.6690 - val_accuracy: 0.2555\n",
            "Epoch 12/1000\n",
            "674/674 [==============================] - 1s 2ms/step - loss: 6.5887 - accuracy: 0.2486 - val_loss: 6.6494 - val_accuracy: 0.2487\n",
            "Epoch 13/1000\n",
            "674/674 [==============================] - 1s 2ms/step - loss: 6.5537 - accuracy: 0.2476 - val_loss: 6.6250 - val_accuracy: 0.2499\n",
            "Epoch 14/1000\n",
            "674/674 [==============================] - 1s 2ms/step - loss: 6.5147 - accuracy: 0.2521 - val_loss: 6.5952 - val_accuracy: 0.2582\n",
            "Epoch 15/1000\n",
            "674/674 [==============================] - 2s 2ms/step - loss: 6.4764 - accuracy: 0.2562 - val_loss: 6.5734 - val_accuracy: 0.2727\n",
            "Epoch 16/1000\n",
            "674/674 [==============================] - 1s 2ms/step - loss: 6.4513 - accuracy: 0.2714 - val_loss: 6.5539 - val_accuracy: 0.2790\n",
            "Epoch 17/1000\n",
            "674/674 [==============================] - 1s 2ms/step - loss: 6.4095 - accuracy: 0.2749 - val_loss: 6.5343 - val_accuracy: 0.2819\n",
            "Epoch 18/1000\n",
            "674/674 [==============================] - 1s 2ms/step - loss: 6.3959 - accuracy: 0.2794 - val_loss: 6.5142 - val_accuracy: 0.2857\n",
            "Epoch 19/1000\n",
            "674/674 [==============================] - 1s 2ms/step - loss: 6.3760 - accuracy: 0.2813 - val_loss: 6.4982 - val_accuracy: 0.2856\n",
            "Epoch 20/1000\n",
            "674/674 [==============================] - 1s 2ms/step - loss: 6.3398 - accuracy: 0.2834 - val_loss: 6.4897 - val_accuracy: 0.2878\n",
            "Epoch 21/1000\n",
            "674/674 [==============================] - 1s 2ms/step - loss: 6.3253 - accuracy: 0.2826 - val_loss: 6.4826 - val_accuracy: 0.2872\n",
            "Epoch 22/1000\n",
            "674/674 [==============================] - 1s 2ms/step - loss: 6.3068 - accuracy: 0.2854 - val_loss: 6.4645 - val_accuracy: 0.2897\n",
            "Epoch 23/1000\n",
            "674/674 [==============================] - 1s 2ms/step - loss: 6.3057 - accuracy: 0.2862 - val_loss: 6.4611 - val_accuracy: 0.2912\n",
            "Epoch 24/1000\n",
            "674/674 [==============================] - 1s 2ms/step - loss: 6.2788 - accuracy: 0.2882 - val_loss: 6.4553 - val_accuracy: 0.2947\n",
            "Epoch 25/1000\n",
            "674/674 [==============================] - 1s 2ms/step - loss: 6.2616 - accuracy: 0.2910 - val_loss: 6.4527 - val_accuracy: 0.2961\n",
            "Epoch 26/1000\n",
            "674/674 [==============================] - 1s 2ms/step - loss: 6.2518 - accuracy: 0.2895 - val_loss: 6.4386 - val_accuracy: 0.2961\n",
            "Epoch 27/1000\n",
            "674/674 [==============================] - 1s 2ms/step - loss: 6.2353 - accuracy: 0.2914 - val_loss: 6.4326 - val_accuracy: 0.2974\n",
            "Epoch 28/1000\n",
            "674/674 [==============================] - 1s 2ms/step - loss: 6.2277 - accuracy: 0.2932 - val_loss: 6.4252 - val_accuracy: 0.2984\n",
            "Epoch 29/1000\n",
            "674/674 [==============================] - 1s 2ms/step - loss: 6.2117 - accuracy: 0.2927 - val_loss: 6.4171 - val_accuracy: 0.2993\n",
            "Epoch 30/1000\n",
            "674/674 [==============================] - 1s 2ms/step - loss: 6.1910 - accuracy: 0.2956 - val_loss: 6.4210 - val_accuracy: 0.3013\n",
            "Epoch 31/1000\n",
            "674/674 [==============================] - 1s 2ms/step - loss: 6.1913 - accuracy: 0.2973 - val_loss: 6.4099 - val_accuracy: 0.3067\n",
            "Epoch 32/1000\n",
            "674/674 [==============================] - 1s 2ms/step - loss: 6.1759 - accuracy: 0.3020 - val_loss: 6.4099 - val_accuracy: 0.3058\n",
            "Epoch 33/1000\n",
            "674/674 [==============================] - 2s 2ms/step - loss: 6.1556 - accuracy: 0.3000 - val_loss: 6.4084 - val_accuracy: 0.3071\n",
            "Epoch 34/1000\n",
            "674/674 [==============================] - 2s 2ms/step - loss: 6.1529 - accuracy: 0.3023 - val_loss: 6.3984 - val_accuracy: 0.3106\n",
            "Epoch 35/1000\n",
            "674/674 [==============================] - 1s 2ms/step - loss: 6.1419 - accuracy: 0.3038 - val_loss: 6.3908 - val_accuracy: 0.3109\n",
            "Epoch 36/1000\n",
            "674/674 [==============================] - 1s 2ms/step - loss: 6.1278 - accuracy: 0.3062 - val_loss: 6.3934 - val_accuracy: 0.3103\n",
            "Epoch 37/1000\n",
            "674/674 [==============================] - 1s 2ms/step - loss: 6.1260 - accuracy: 0.3054 - val_loss: 6.3828 - val_accuracy: 0.3133\n",
            "Epoch 38/1000\n",
            "674/674 [==============================] - 1s 2ms/step - loss: 6.1047 - accuracy: 0.3085 - val_loss: 6.3807 - val_accuracy: 0.3149\n",
            "Epoch 39/1000\n",
            "674/674 [==============================] - 1s 2ms/step - loss: 6.0949 - accuracy: 0.3090 - val_loss: 6.3857 - val_accuracy: 0.3145\n",
            "Epoch 40/1000\n",
            "674/674 [==============================] - 1s 2ms/step - loss: 6.0900 - accuracy: 0.3108 - val_loss: 6.3737 - val_accuracy: 0.3147\n",
            "Epoch 41/1000\n",
            "674/674 [==============================] - 2s 2ms/step - loss: 6.0929 - accuracy: 0.3125 - val_loss: 6.3730 - val_accuracy: 0.3171\n",
            "Epoch 42/1000\n",
            "674/674 [==============================] - 1s 2ms/step - loss: 6.0798 - accuracy: 0.3155 - val_loss: 6.3686 - val_accuracy: 0.3188\n",
            "Epoch 43/1000\n",
            "674/674 [==============================] - 2s 2ms/step - loss: 6.0648 - accuracy: 0.3148 - val_loss: 6.3618 - val_accuracy: 0.3194\n",
            "Epoch 44/1000\n",
            "674/674 [==============================] - 1s 2ms/step - loss: 6.0651 - accuracy: 0.3134 - val_loss: 6.3587 - val_accuracy: 0.3199\n",
            "Epoch 45/1000\n",
            "674/674 [==============================] - 2s 2ms/step - loss: 6.0456 - accuracy: 0.3164 - val_loss: 6.3581 - val_accuracy: 0.3197\n",
            "Epoch 46/1000\n",
            "674/674 [==============================] - 1s 2ms/step - loss: 6.0392 - accuracy: 0.3161 - val_loss: 6.3500 - val_accuracy: 0.3186\n",
            "Epoch 47/1000\n",
            "674/674 [==============================] - 1s 2ms/step - loss: 6.0398 - accuracy: 0.3187 - val_loss: 6.3503 - val_accuracy: 0.3224\n",
            "Epoch 48/1000\n",
            "674/674 [==============================] - 1s 2ms/step - loss: 6.0265 - accuracy: 0.3178 - val_loss: 6.3493 - val_accuracy: 0.3213\n",
            "Epoch 49/1000\n",
            "674/674 [==============================] - 1s 2ms/step - loss: 6.0193 - accuracy: 0.3199 - val_loss: 6.3467 - val_accuracy: 0.3254\n",
            "Epoch 50/1000\n",
            "674/674 [==============================] - 1s 2ms/step - loss: 6.0125 - accuracy: 0.3213 - val_loss: 6.3433 - val_accuracy: 0.3232\n",
            "Epoch 51/1000\n",
            "674/674 [==============================] - 2s 2ms/step - loss: 6.0047 - accuracy: 0.3210 - val_loss: 6.3495 - val_accuracy: 0.3247\n",
            "Epoch 52/1000\n",
            "674/674 [==============================] - 2s 2ms/step - loss: 6.0008 - accuracy: 0.3240 - val_loss: 6.3434 - val_accuracy: 0.3253\n",
            "Epoch 53/1000\n",
            "674/674 [==============================] - 1s 2ms/step - loss: 5.9904 - accuracy: 0.3227 - val_loss: 6.3408 - val_accuracy: 0.3246\n",
            "Epoch 54/1000\n",
            "674/674 [==============================] - 1s 2ms/step - loss: 5.9879 - accuracy: 0.3264 - val_loss: 6.3388 - val_accuracy: 0.3266\n",
            "Epoch 55/1000\n",
            "674/674 [==============================] - 1s 2ms/step - loss: 5.9738 - accuracy: 0.3279 - val_loss: 6.3327 - val_accuracy: 0.3281\n",
            "Epoch 56/1000\n",
            "674/674 [==============================] - 1s 2ms/step - loss: 5.9695 - accuracy: 0.3268 - val_loss: 6.3379 - val_accuracy: 0.3273\n",
            "Epoch 57/1000\n",
            "674/674 [==============================] - 1s 2ms/step - loss: 5.9636 - accuracy: 0.3245 - val_loss: 6.3311 - val_accuracy: 0.3288\n",
            "Epoch 58/1000\n",
            "674/674 [==============================] - 1s 2ms/step - loss: 5.9622 - accuracy: 0.3276 - val_loss: 6.3270 - val_accuracy: 0.3294\n",
            "Epoch 59/1000\n",
            "674/674 [==============================] - 2s 2ms/step - loss: 5.9470 - accuracy: 0.3297 - val_loss: 6.3263 - val_accuracy: 0.3293\n",
            "Epoch 60/1000\n",
            "674/674 [==============================] - 1s 2ms/step - loss: 5.9425 - accuracy: 0.3306 - val_loss: 6.3293 - val_accuracy: 0.3305\n",
            "Epoch 61/1000\n",
            "674/674 [==============================] - 2s 2ms/step - loss: 5.9340 - accuracy: 0.3317 - val_loss: 6.3277 - val_accuracy: 0.3308\n",
            "Epoch 62/1000\n",
            "674/674 [==============================] - 1s 2ms/step - loss: 5.9395 - accuracy: 0.3294 - val_loss: 6.3204 - val_accuracy: 0.3294\n",
            "Epoch 63/1000\n",
            "674/674 [==============================] - 1s 2ms/step - loss: 5.9246 - accuracy: 0.3320 - val_loss: 6.3192 - val_accuracy: 0.3333\n",
            "Epoch 64/1000\n",
            "674/674 [==============================] - 1s 2ms/step - loss: 5.9201 - accuracy: 0.3339 - val_loss: 6.3189 - val_accuracy: 0.3345\n",
            "Epoch 65/1000\n",
            "674/674 [==============================] - 1s 2ms/step - loss: 5.9112 - accuracy: 0.3338 - val_loss: 6.3161 - val_accuracy: 0.3309\n",
            "Epoch 66/1000\n",
            "674/674 [==============================] - 1s 2ms/step - loss: 5.9101 - accuracy: 0.3349 - val_loss: 6.3174 - val_accuracy: 0.3338\n",
            "Epoch 67/1000\n",
            "674/674 [==============================] - 1s 2ms/step - loss: 5.9099 - accuracy: 0.3335 - val_loss: 6.3136 - val_accuracy: 0.3352\n",
            "Epoch 68/1000\n",
            "674/674 [==============================] - 1s 2ms/step - loss: 5.8992 - accuracy: 0.3354 - val_loss: 6.3206 - val_accuracy: 0.3378\n",
            "Epoch 69/1000\n",
            "674/674 [==============================] - 1s 2ms/step - loss: 5.8838 - accuracy: 0.3326 - val_loss: 6.3104 - val_accuracy: 0.3369\n",
            "Epoch 70/1000\n",
            "674/674 [==============================] - 1s 2ms/step - loss: 5.8832 - accuracy: 0.3373 - val_loss: 6.3126 - val_accuracy: 0.3357\n",
            "Epoch 71/1000\n",
            "674/674 [==============================] - 2s 2ms/step - loss: 5.8837 - accuracy: 0.3349 - val_loss: 6.3095 - val_accuracy: 0.3374\n",
            "Epoch 72/1000\n",
            "674/674 [==============================] - 1s 2ms/step - loss: 5.8794 - accuracy: 0.3348 - val_loss: 6.3067 - val_accuracy: 0.3348\n",
            "Epoch 73/1000\n",
            "674/674 [==============================] - 2s 2ms/step - loss: 5.8616 - accuracy: 0.3346 - val_loss: 6.3097 - val_accuracy: 0.3397\n",
            "Epoch 74/1000\n",
            "674/674 [==============================] - 1s 2ms/step - loss: 5.8628 - accuracy: 0.3363 - val_loss: 6.3039 - val_accuracy: 0.3388\n",
            "Epoch 75/1000\n",
            "674/674 [==============================] - 1s 2ms/step - loss: 5.8549 - accuracy: 0.3400 - val_loss: 6.3081 - val_accuracy: 0.3393\n",
            "Epoch 76/1000\n",
            "674/674 [==============================] - 1s 2ms/step - loss: 5.8450 - accuracy: 0.3394 - val_loss: 6.3096 - val_accuracy: 0.3409\n",
            "Epoch 77/1000\n",
            "674/674 [==============================] - 1s 2ms/step - loss: 5.8456 - accuracy: 0.3405 - val_loss: 6.3110 - val_accuracy: 0.3396\n",
            "Epoch 78/1000\n",
            "674/674 [==============================] - 1s 2ms/step - loss: 5.8519 - accuracy: 0.3377 - val_loss: 6.3038 - val_accuracy: 0.3385\n",
            "Epoch 79/1000\n",
            "674/674 [==============================] - 1s 2ms/step - loss: 5.8505 - accuracy: 0.3416 - val_loss: 6.3006 - val_accuracy: 0.3397\n",
            "Epoch 80/1000\n",
            "674/674 [==============================] - 1s 2ms/step - loss: 5.8325 - accuracy: 0.3425 - val_loss: 6.2945 - val_accuracy: 0.3407\n",
            "Epoch 81/1000\n",
            "674/674 [==============================] - 1s 2ms/step - loss: 5.8261 - accuracy: 0.3401 - val_loss: 6.3018 - val_accuracy: 0.3420\n",
            "Epoch 82/1000\n",
            "674/674 [==============================] - 1s 2ms/step - loss: 5.8337 - accuracy: 0.3400 - val_loss: 6.2977 - val_accuracy: 0.3405\n",
            "Epoch 83/1000\n",
            "674/674 [==============================] - 1s 2ms/step - loss: 5.8164 - accuracy: 0.3393 - val_loss: 6.3026 - val_accuracy: 0.3410\n",
            "Epoch 84/1000\n",
            "674/674 [==============================] - 1s 2ms/step - loss: 5.8183 - accuracy: 0.3390 - val_loss: 6.2988 - val_accuracy: 0.3405\n",
            "Epoch 85/1000\n",
            "674/674 [==============================] - 2s 2ms/step - loss: 5.8218 - accuracy: 0.3415 - val_loss: 6.3037 - val_accuracy: 0.3390\n",
            "Epoch 86/1000\n",
            "674/674 [==============================] - 1s 2ms/step - loss: 5.8201 - accuracy: 0.3416 - val_loss: 6.2981 - val_accuracy: 0.3425\n",
            "Epoch 87/1000\n",
            "674/674 [==============================] - 2s 2ms/step - loss: 5.8114 - accuracy: 0.3424 - val_loss: 6.3002 - val_accuracy: 0.3422\n",
            "Epoch 88/1000\n",
            "674/674 [==============================] - 1s 2ms/step - loss: 5.8015 - accuracy: 0.3426 - val_loss: 6.3119 - val_accuracy: 0.3428\n",
            "Epoch 89/1000\n",
            "674/674 [==============================] - 1s 2ms/step - loss: 5.8071 - accuracy: 0.3440 - val_loss: 6.3052 - val_accuracy: 0.3420\n",
            "Epoch 90/1000\n",
            "674/674 [==============================] - 1s 2ms/step - loss: 5.7914 - accuracy: 0.3429 - val_loss: 6.3026 - val_accuracy: 0.3441\n",
            "Epoch 91/1000\n",
            "674/674 [==============================] - 1s 2ms/step - loss: 5.7960 - accuracy: 0.3426 - val_loss: 6.3052 - val_accuracy: 0.3421\n",
            "Epoch 92/1000\n",
            "674/674 [==============================] - 1s 2ms/step - loss: 5.7811 - accuracy: 0.3416 - val_loss: 6.3078 - val_accuracy: 0.3428\n",
            "Epoch 93/1000\n",
            "674/674 [==============================] - 1s 2ms/step - loss: 5.7833 - accuracy: 0.3435 - val_loss: 6.3054 - val_accuracy: 0.3444\n",
            "Epoch 94/1000\n",
            "674/674 [==============================] - 1s 2ms/step - loss: 5.7821 - accuracy: 0.3468 - val_loss: 6.3031 - val_accuracy: 0.3455\n",
            "Epoch 95/1000\n",
            "674/674 [==============================] - 1s 2ms/step - loss: 5.7917 - accuracy: 0.3441 - val_loss: 6.3005 - val_accuracy: 0.3453\n",
            "Epoch 96/1000\n",
            "674/674 [==============================] - 1s 2ms/step - loss: 5.7734 - accuracy: 0.3455 - val_loss: 6.3021 - val_accuracy: 0.3460\n",
            "Epoch 97/1000\n",
            "674/674 [==============================] - 2s 2ms/step - loss: 5.7739 - accuracy: 0.3472 - val_loss: 6.3048 - val_accuracy: 0.3439\n",
            "Epoch 98/1000\n",
            "674/674 [==============================] - 1s 2ms/step - loss: 5.7750 - accuracy: 0.3425 - val_loss: 6.2979 - val_accuracy: 0.3446\n",
            "Epoch 99/1000\n",
            "674/674 [==============================] - 1s 2ms/step - loss: 5.7587 - accuracy: 0.3461 - val_loss: 6.3058 - val_accuracy: 0.3463\n",
            "Epoch 100/1000\n",
            "674/674 [==============================] - 1s 2ms/step - loss: 5.7670 - accuracy: 0.3477 - val_loss: 6.3046 - val_accuracy: 0.3431\n",
            "Epoch 101/1000\n",
            "674/674 [==============================] - 1s 2ms/step - loss: 5.7706 - accuracy: 0.3445 - val_loss: 6.3054 - val_accuracy: 0.3460\n",
            "Epoch 102/1000\n",
            "674/674 [==============================] - 2s 2ms/step - loss: 5.7526 - accuracy: 0.3474 - val_loss: 6.3092 - val_accuracy: 0.3444\n",
            "Epoch 103/1000\n",
            "674/674 [==============================] - 2s 2ms/step - loss: 5.7597 - accuracy: 0.3487 - val_loss: 6.3016 - val_accuracy: 0.3453\n",
            "Epoch 104/1000\n",
            "674/674 [==============================] - 2s 2ms/step - loss: 5.7477 - accuracy: 0.3474 - val_loss: 6.3026 - val_accuracy: 0.3461\n",
            "Epoch 105/1000\n",
            "674/674 [==============================] - 2s 2ms/step - loss: 5.7495 - accuracy: 0.3461 - val_loss: 6.3105 - val_accuracy: 0.3447\n",
            "Epoch 106/1000\n",
            "674/674 [==============================] - 1s 2ms/step - loss: 5.7384 - accuracy: 0.3490 - val_loss: 6.3226 - val_accuracy: 0.3469\n",
            "Epoch 107/1000\n",
            "674/674 [==============================] - 2s 2ms/step - loss: 5.7418 - accuracy: 0.3513 - val_loss: 6.3129 - val_accuracy: 0.3449\n",
            "Epoch 108/1000\n",
            "674/674 [==============================] - 1s 2ms/step - loss: 5.7386 - accuracy: 0.3480 - val_loss: 6.3070 - val_accuracy: 0.3477\n",
            "Epoch 109/1000\n",
            "674/674 [==============================] - 1s 2ms/step - loss: 5.7424 - accuracy: 0.3491 - val_loss: 6.3059 - val_accuracy: 0.3464\n",
            "Epoch 110/1000\n",
            "674/674 [==============================] - 1s 2ms/step - loss: 5.7396 - accuracy: 0.3471 - val_loss: 6.3141 - val_accuracy: 0.3447\n",
            "Saving model...\n",
            "WARNING:tensorflow:From /usr/local/lib/python3.6/dist-packages/tensorflow/python/training/tracking/tracking.py:111: Model.state_updates (from tensorflow.python.keras.engine.training) is deprecated and will be removed in a future version.\n",
            "Instructions for updating:\n",
            "This property should not be used in TensorFlow 2.0, as updates are applied automatically.\n",
            "2020-12-15 01:33:00.694347: W tensorflow/python/util/util.cc:348] Sets are not currently considered sequences, but this may change in the future, so consider avoiding using them.\n",
            "WARNING:tensorflow:From /usr/local/lib/python3.6/dist-packages/tensorflow/python/training/tracking/tracking.py:111: Layer.updates (from tensorflow.python.keras.engine.base_layer) is deprecated and will be removed in a future version.\n",
            "Instructions for updating:\n",
            "This property should not be used in TensorFlow 2.0, as updates are applied automatically.\n",
            "Done.\n"
          ],
          "name": "stdout"
        }
      ]
    },
    {
      "cell_type": "markdown",
      "metadata": {
        "id": "9CArMZK8j4bo"
      },
      "source": [
        "## Model inference\r\n",
        "\r\n",
        "The model saved in the training step is loaded and used to infer the diagnostics for every recording in the test set. Each inference is saved in a file in the `test_outputs` folder."
      ]
    },
    {
      "cell_type": "code",
      "metadata": {
        "id": "I99Wrl2E7tKY",
        "colab": {
          "base_uri": "https://localhost:8080/"
        },
        "outputId": "f6e759c1-276f-4c46-9d3e-6f2d7e8fdd0b"
      },
      "source": [
        "!mkdir -p test_outputs\n",
        "!python python-classifier-2020/driver.py model_dir extracted test_outputs"
      ],
      "execution_count": null,
      "outputs": [
        {
          "output_type": "stream",
          "text": [
            "2020-12-15 01:33:04.573503: I tensorflow/stream_executor/platform/default/dso_loader.cc:48] Successfully opened dynamic library libcudart.so.10.1\n",
            "Loading 12ECG model...\n",
            "2020-12-15 01:33:08.317552: I tensorflow/stream_executor/platform/default/dso_loader.cc:48] Successfully opened dynamic library libcuda.so.1\n",
            "2020-12-15 01:33:08.327641: E tensorflow/stream_executor/cuda/cuda_driver.cc:314] failed call to cuInit: CUDA_ERROR_NO_DEVICE: no CUDA-capable device is detected\n",
            "2020-12-15 01:33:08.327699: I tensorflow/stream_executor/cuda/cuda_diagnostics.cc:156] kernel driver does not appear to be running on this host (e1ce3d820442): /proc/driver/nvidia/version does not exist\n",
            "2020-12-15 01:33:08.357429: I tensorflow/core/platform/profile_utils/cpu_utils.cc:104] CPU Frequency: 2300000000 Hz\n",
            "2020-12-15 01:33:08.357733: I tensorflow/compiler/xla/service/service.cc:168] XLA service 0x243ea00 initialized for platform Host (this does not guarantee that XLA will be used). Devices:\n",
            "2020-12-15 01:33:08.357776: I tensorflow/compiler/xla/service/service.cc:176]   StreamExecutor device (0): Host, Default Version\n",
            "Making predictions...\n",
            "\t2/10776...\n",
            "\t1002/10776...\n",
            "\t2002/10776...\n",
            "\t3002/10776...\n",
            "/usr/local/lib/python3.6/dist-packages/numpy/core/fromnumeric.py:3335: RuntimeWarning: Mean of empty slice.\n",
            "  out=out, **kwargs)\n",
            "/usr/local/lib/python3.6/dist-packages/numpy/core/_methods.py:161: RuntimeWarning: invalid value encountered in double_scalars\n",
            "  ret = ret.dtype.type(ret / rcount)\n",
            "/usr/local/lib/python3.6/dist-packages/numpy/core/_methods.py:217: RuntimeWarning: Degrees of freedom <= 0 for slice\n",
            "  keepdims=keepdims)\n",
            "/usr/local/lib/python3.6/dist-packages/numpy/core/_methods.py:186: RuntimeWarning: invalid value encountered in true_divide\n",
            "  arrmean, rcount, out=arrmean, casting='unsafe', subok=False)\n",
            "/usr/local/lib/python3.6/dist-packages/numpy/core/_methods.py:209: RuntimeWarning: invalid value encountered in double_scalars\n",
            "  ret = ret.dtype.type(ret / rcount)\n",
            "/usr/local/lib/python3.6/dist-packages/scipy/stats/stats.py:651: RuntimeWarning: Degrees of freedom <= 0 for slice\n",
            "  return a.var(ddof=ddof, axis=axis)\n",
            "/usr/local/lib/python3.6/dist-packages/numpy/core/fromnumeric.py:3335: RuntimeWarning: Mean of empty slice.\n",
            "  out=out, **kwargs)\n",
            "/usr/local/lib/python3.6/dist-packages/numpy/core/_methods.py:161: RuntimeWarning: invalid value encountered in double_scalars\n",
            "  ret = ret.dtype.type(ret / rcount)\n",
            "/usr/local/lib/python3.6/dist-packages/numpy/core/_methods.py:217: RuntimeWarning: Degrees of freedom <= 0 for slice\n",
            "  keepdims=keepdims)\n",
            "/usr/local/lib/python3.6/dist-packages/numpy/core/_methods.py:186: RuntimeWarning: invalid value encountered in true_divide\n",
            "  arrmean, rcount, out=arrmean, casting='unsafe', subok=False)\n",
            "/usr/local/lib/python3.6/dist-packages/numpy/core/_methods.py:209: RuntimeWarning: invalid value encountered in double_scalars\n",
            "  ret = ret.dtype.type(ret / rcount)\n",
            "/usr/local/lib/python3.6/dist-packages/scipy/stats/stats.py:651: RuntimeWarning: Degrees of freedom <= 0 for slice\n",
            "  return a.var(ddof=ddof, axis=axis)\n",
            "\t4002/10776...\n",
            "/usr/local/lib/python3.6/dist-packages/numpy/core/fromnumeric.py:3335: RuntimeWarning: Mean of empty slice.\n",
            "  out=out, **kwargs)\n",
            "/usr/local/lib/python3.6/dist-packages/numpy/core/_methods.py:161: RuntimeWarning: invalid value encountered in double_scalars\n",
            "  ret = ret.dtype.type(ret / rcount)\n",
            "/usr/local/lib/python3.6/dist-packages/numpy/core/_methods.py:217: RuntimeWarning: Degrees of freedom <= 0 for slice\n",
            "  keepdims=keepdims)\n",
            "/usr/local/lib/python3.6/dist-packages/numpy/core/_methods.py:186: RuntimeWarning: invalid value encountered in true_divide\n",
            "  arrmean, rcount, out=arrmean, casting='unsafe', subok=False)\n",
            "/usr/local/lib/python3.6/dist-packages/numpy/core/_methods.py:209: RuntimeWarning: invalid value encountered in double_scalars\n",
            "  ret = ret.dtype.type(ret / rcount)\n",
            "/usr/local/lib/python3.6/dist-packages/scipy/stats/stats.py:651: RuntimeWarning: Degrees of freedom <= 0 for slice\n",
            "  return a.var(ddof=ddof, axis=axis)\n",
            "\t5002/10776...\n",
            "/usr/local/lib/python3.6/dist-packages/numpy/core/fromnumeric.py:3335: RuntimeWarning: Mean of empty slice.\n",
            "  out=out, **kwargs)\n",
            "/usr/local/lib/python3.6/dist-packages/numpy/core/_methods.py:161: RuntimeWarning: invalid value encountered in double_scalars\n",
            "  ret = ret.dtype.type(ret / rcount)\n",
            "/usr/local/lib/python3.6/dist-packages/numpy/core/_methods.py:217: RuntimeWarning: Degrees of freedom <= 0 for slice\n",
            "  keepdims=keepdims)\n",
            "/usr/local/lib/python3.6/dist-packages/numpy/core/_methods.py:186: RuntimeWarning: invalid value encountered in true_divide\n",
            "  arrmean, rcount, out=arrmean, casting='unsafe', subok=False)\n",
            "/usr/local/lib/python3.6/dist-packages/numpy/core/_methods.py:209: RuntimeWarning: invalid value encountered in double_scalars\n",
            "  ret = ret.dtype.type(ret / rcount)\n",
            "/usr/local/lib/python3.6/dist-packages/scipy/stats/stats.py:651: RuntimeWarning: Degrees of freedom <= 0 for slice\n",
            "  return a.var(ddof=ddof, axis=axis)\n",
            "\t6002/10776...\n",
            "/usr/local/lib/python3.6/dist-packages/numpy/core/fromnumeric.py:3335: RuntimeWarning: Mean of empty slice.\n",
            "  out=out, **kwargs)\n",
            "/usr/local/lib/python3.6/dist-packages/numpy/core/_methods.py:161: RuntimeWarning: invalid value encountered in double_scalars\n",
            "  ret = ret.dtype.type(ret / rcount)\n",
            "/usr/local/lib/python3.6/dist-packages/numpy/core/_methods.py:217: RuntimeWarning: Degrees of freedom <= 0 for slice\n",
            "  keepdims=keepdims)\n",
            "/usr/local/lib/python3.6/dist-packages/numpy/core/_methods.py:186: RuntimeWarning: invalid value encountered in true_divide\n",
            "  arrmean, rcount, out=arrmean, casting='unsafe', subok=False)\n",
            "/usr/local/lib/python3.6/dist-packages/numpy/core/_methods.py:209: RuntimeWarning: invalid value encountered in double_scalars\n",
            "  ret = ret.dtype.type(ret / rcount)\n",
            "/usr/local/lib/python3.6/dist-packages/scipy/stats/stats.py:651: RuntimeWarning: Degrees of freedom <= 0 for slice\n",
            "  return a.var(ddof=ddof, axis=axis)\n",
            "/usr/local/lib/python3.6/dist-packages/numpy/core/fromnumeric.py:3335: RuntimeWarning: Mean of empty slice.\n",
            "  out=out, **kwargs)\n",
            "/usr/local/lib/python3.6/dist-packages/numpy/core/_methods.py:161: RuntimeWarning: invalid value encountered in double_scalars\n",
            "  ret = ret.dtype.type(ret / rcount)\n",
            "/usr/local/lib/python3.6/dist-packages/numpy/core/_methods.py:217: RuntimeWarning: Degrees of freedom <= 0 for slice\n",
            "  keepdims=keepdims)\n",
            "/usr/local/lib/python3.6/dist-packages/numpy/core/_methods.py:186: RuntimeWarning: invalid value encountered in true_divide\n",
            "  arrmean, rcount, out=arrmean, casting='unsafe', subok=False)\n",
            "/usr/local/lib/python3.6/dist-packages/numpy/core/_methods.py:209: RuntimeWarning: invalid value encountered in double_scalars\n",
            "  ret = ret.dtype.type(ret / rcount)\n",
            "/usr/local/lib/python3.6/dist-packages/scipy/stats/stats.py:651: RuntimeWarning: Degrees of freedom <= 0 for slice\n",
            "  return a.var(ddof=ddof, axis=axis)\n",
            "\t7002/10776...\n",
            "/usr/local/lib/python3.6/dist-packages/numpy/core/fromnumeric.py:3335: RuntimeWarning: Mean of empty slice.\n",
            "  out=out, **kwargs)\n",
            "/usr/local/lib/python3.6/dist-packages/numpy/core/_methods.py:161: RuntimeWarning: invalid value encountered in double_scalars\n",
            "  ret = ret.dtype.type(ret / rcount)\n",
            "/usr/local/lib/python3.6/dist-packages/numpy/core/_methods.py:217: RuntimeWarning: Degrees of freedom <= 0 for slice\n",
            "  keepdims=keepdims)\n",
            "/usr/local/lib/python3.6/dist-packages/numpy/core/_methods.py:186: RuntimeWarning: invalid value encountered in true_divide\n",
            "  arrmean, rcount, out=arrmean, casting='unsafe', subok=False)\n",
            "/usr/local/lib/python3.6/dist-packages/numpy/core/_methods.py:209: RuntimeWarning: invalid value encountered in double_scalars\n",
            "  ret = ret.dtype.type(ret / rcount)\n",
            "/usr/local/lib/python3.6/dist-packages/scipy/stats/stats.py:651: RuntimeWarning: Degrees of freedom <= 0 for slice\n",
            "  return a.var(ddof=ddof, axis=axis)\n",
            "\t8002/10776...\n",
            "\t9002/10776...\n",
            "\t10002/10776...\n",
            "Done.\n"
          ],
          "name": "stdout"
        }
      ]
    },
    {
      "cell_type": "markdown",
      "metadata": {
        "id": "gHj86C92kO8e"
      },
      "source": [
        "## Model evaluation\r\n",
        "\r\n",
        "The inference files are used to compute the metrics."
      ]
    },
    {
      "cell_type": "code",
      "metadata": {
        "id": "Xf4FepTNxCtx",
        "colab": {
          "base_uri": "https://localhost:8080/"
        },
        "outputId": "4a45e0a7-8c24-4755-e114-d1a0a3ce2f47"
      },
      "source": [
        "!cp model_dir/header_files_test.npy evaluation-2020\n",
        "%cd evaluation-2020\n",
        "!python evaluate_12ECG_score.py ../extracted ../test_outputs\n",
        "%cd .."
      ],
      "execution_count": null,
      "outputs": [
        {
          "output_type": "stream",
          "text": [
            "/content/evaluation-2020\n",
            "Loading weights...\n",
            "Loading label and output files...\n",
            "Step 1 - finding files.\n",
            "Step 2 - load labels\n",
            "100% 10776/10776 [00:00<00:00, 31886.31it/s]\n",
            "Step 3 - loading outputs\n",
            "Evaluating model...\n",
            "- AUROC and AUPRC...\n",
            "- Accuracy...\n",
            "- F-measure...\n",
            "- F-beta and G-beta measures...\n",
            "- Challenge metric...\n",
            "Done.\n",
            "AUROC,AUPRC,Accuracy,F-measure,Fbeta-measure,Gbeta-measure,Challenge metric\n",
            "0.799,0.197,0.323,0.183,0.176,0.086,0.079\n",
            "/content\n"
          ],
          "name": "stdout"
        }
      ]
    },
    {
      "cell_type": "code",
      "metadata": {
        "id": "cqBKHl0rhXgn"
      },
      "source": [
        ""
      ],
      "execution_count": null,
      "outputs": []
    }
  ]
}